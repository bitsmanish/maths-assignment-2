{
 "cells": [
  {
   "cell_type": "code",
   "execution_count": 1,
   "id": "801dd40c",
   "metadata": {},
   "outputs": [],
   "source": [
    "# import utility methods\n",
    "from util import *\n",
    "import pickle\n",
    "import matplotlib.pyplot as plt"
   ]
  },
  {
   "cell_type": "markdown",
   "id": "63a5d585",
   "metadata": {},
   "source": [
    "## Question 2: Gradient Descent Algorithm "
   ]
  },
  {
   "cell_type": "markdown",
   "id": "ce457294",
   "metadata": {},
   "source": [
    "### 2 Part(i): Matrix of size (n1n2 X n3n4) and its inf. norm"
   ]
  },
  {
   "cell_type": "code",
   "execution_count": 2,
   "id": "608fa9e0",
   "metadata": {},
   "outputs": [
    {
     "name": "stdout",
     "output_type": "stream",
     "text": [
      "Dimensions of generated matrix: (74, 85)\n",
      "Infinite norm of generated matrix: 52.213568376060906\n"
     ]
    }
   ],
   "source": [
    "# phone number\n",
    "phone_number = 8164527485\n",
    "\n",
    "# n1,n2,n3 & n4\n",
    "phone_str = str(phone_number).replace('0','3')\n",
    "(n1,n2,n3,n4) = [x for x in phone_str[-4:]]\n",
    "m,n = int(n1+n2), int(n3+n4)\n",
    "\n",
    "# generate matrix\n",
    "A = Matrix(m,n,precision=4)\n",
    "A.random()\n",
    "print(f\"Dimensions of generated matrix: {A.shape()}\")\n",
    "\n",
    "# inf. norm of generated matrix\n",
    "norm = A.norm('inf')\n",
    "print(f\"Infinite norm of generated matrix: {norm}\")"
   ]
  },
  {
   "cell_type": "markdown",
   "id": "df78a268",
   "metadata": {},
   "source": [
    "### 2 Part(ii): Find the minimum of the given function and value of T"
   ]
  },
  {
   "cell_type": "code",
   "execution_count": 3,
   "id": "4efba055",
   "metadata": {},
   "outputs": [],
   "source": [
    "# compute gradient function\n",
    "def gradient(A,b,x):\n",
    "    A = A.copy()\n",
    "    AT = A.transpose(copy=True)\n",
    "    \n",
    "    # AT @ b\n",
    "    B = AT.multiply(b,copy=True)\n",
    "    \n",
    "    # AT @ (A @ x)\n",
    "    AX = A.multiply(x,copy=True)\n",
    "    L = AT.multiply(AX,copy=True)\n",
    "    \n",
    "    # gradient value\n",
    "    return L.eOps(B,opr=\"-\",copy=True)\n",
    "\n",
    "\n",
    "# compute tau\n",
    "def tau(A,b,x):\n",
    "    A = A.copy()\n",
    "    AT = A.transpose(copy=True)\n",
    "    \n",
    "    # gradient value\n",
    "    G = gradient(A,b,x)\n",
    "    GT = G.transpose(copy=True)\n",
    "    \n",
    "    # num\n",
    "    NU = GT.multiply(G,copy=True)\n",
    "    \n",
    "    # deno\n",
    "    DN = GT.multiply(AT,copy=True) \n",
    "    DN.multiply(A,update=True)\n",
    "    DN.multiply(G,update=True)\n",
    "    \n",
    "    # Tau\n",
    "    T = NU.eOps(DN,opr='/',copy=True)\n",
    "    return T.matrix()[0][0]\n",
    "\n",
    "# compute Fx\n",
    "def fx(A,b,x):\n",
    "    A = A.copy()\n",
    "    AX = A.multiply(x,copy=True)\n",
    "    F = AX.eOps(b,opr='-',copy=True)\n",
    "    \n",
    "    # l2 norm value\n",
    "    norm = F.norm(2)\n",
    "    return (norm**2)/2"
   ]
  },
  {
   "cell_type": "code",
   "execution_count": 4,
   "id": "fee62cbc",
   "metadata": {},
   "outputs": [
    {
     "name": "stdout",
     "output_type": "stream",
     "text": [
      "Minimum value of given function :0.005646057306650772\n",
      "Value of T: 0.046659065414751774\n"
     ]
    }
   ],
   "source": [
    "# generate random vector b of size (n1n2 x 1)\n",
    "b = Matrix(m,1,precision=4)\n",
    "b.random()\n",
    "\n",
    "# initialize x vector\n",
    "x1 = Matrix(n,1,precision=4)\n",
    "\n",
    "# find minimum of fx (iterative)\n",
    "F = fx(A,b,x1)\n",
    "c_norm = 1\n",
    "i = 1\n",
    "iter_data = {}\n",
    "while c_norm>(10**-4):\n",
    "    G = gradient(A,b,x1)\n",
    "    T = tau(A,b,x1)\n",
    "    \n",
    "    # T.G (scalar multiplication)\n",
    "    G.scalar(T,update=True)\n",
    "    x2 = x1.eOps(G,opr='-',copy=True)\n",
    "    x_diff = x2.eOps(x1,opr='-',copy=True)\n",
    "    c_norm = x_diff.norm(2)\n",
    "    x1 = x2\n",
    "    F = fx(A,b,x1)\n",
    "    iter_data[i] = {\"x\":x1.matrix(),\"fx\":F}\n",
    "    i += 1\n",
    "\n",
    "# output file\n",
    "fHandler = open('output.bin','wb')\n",
    "pickle.dump(iter_data,fHandler)\n",
    "iter_data=None\n",
    "fHandler.close()\n",
    "\n",
    "# compute Fx\n",
    "F = fx(A,b,x1)\n",
    "T = tau(A,b,x1)\n",
    "print(f\"Minimum value of given function :{F}\")\n",
    "print(f\"Value of T: {T}\")\n"
   ]
  },
  {
   "cell_type": "code",
   "execution_count": 5,
   "id": "b5df62e4",
   "metadata": {},
   "outputs": [
    {
     "data": {
      "image/png": "[encoded data removed]",
      "text/plain": [
       "<Figure size 432x288 with 1 Axes>"
      ]
     },
     "metadata": {
      "needs_background": "light"
     },
     "output_type": "display_data"
    }
   ],
   "source": [
    "# graph fx vs k\n",
    "fHandler = open('output.bin','rb')\n",
    "X,Y=[],[]\n",
    "k = 1\n",
    "data = pickle.load(fHandler)\n",
    "for k in range(1,len(data.keys())+1):\n",
    "    X.append(int(k))\n",
    "    fx = data[k]['fx']\n",
    "    Y.append(float(fx))\n",
    "    k+=1\n",
    "fHandler.close()\n",
    "\n",
    "# plot graph\n",
    "plt.plot(X,Y)\n",
    "plt.xlabel('k (iteration)')\n",
    "plt.ylabel('F(x)')\n",
    "plt.show()"
   ]
  },
  {
   "cell_type": "code",
   "execution_count": null,
   "id": "c90978ee",
   "metadata": {},
   "outputs": [],
   "source": []
  }
 ],
 "metadata": {
  "kernelspec": {
   "display_name": "Python 3 (ipykernel)",
   "language": "python",
   "name": "python3"
  },
  "language_info": {
   "codemirror_mode": {
    "name": "ipython",
    "version": 3
   },
   "file_extension": ".py",
   "mimetype": "text/x-python",
   "name": "python",
   "nbconvert_exporter": "python",
   "pygments_lexer": "ipython3",
   "version": "3.9.5"
  }
 },
 "nbformat": 4,
 "nbformat_minor": 5
}
