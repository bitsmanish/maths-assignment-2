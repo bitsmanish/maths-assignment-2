{
 "cells": [
  {
   "cell_type": "code",
   "execution_count": 1,
   "id": "16c7e25d",
   "metadata": {},
   "outputs": [],
   "source": [
    "# import utility methods\n",
    "from util import *"
   ]
  },
  {
   "cell_type": "markdown",
   "id": "2265cae7",
   "metadata": {},
   "source": [
    "## Question 1: Gram-Schmidt Algorithm and QR decomposition"
   ]
  },
  {
   "cell_type": "markdown",
   "id": "a7b5c58d",
   "metadata": {},
   "source": [
    "### 1. Part(i) : Random Matrix's dimensions and Frobenious norm."
   ]
  },
  {
   "cell_type": "code",
   "execution_count": 2,
   "id": "589e621d",
   "metadata": {},
   "outputs": [
    {
     "name": "stdout",
     "output_type": "stream",
     "text": [
      "Enter number of rows: 7\n",
      "Enter number of columns: 5\n"
     ]
    }
   ],
   "source": [
    "# Processing Inputs\n",
    "m = process_input(\"Enter number of rows: \")\n",
    "n = process_input(\"Enter number of columns: \")\n",
    "\n",
    "while n>=m:\n",
    "    print(\"Error: Number of rows should be greater then columns, Try Again (as mentioned)\")\n",
    "    m = process_input(\"Enter number of rows: \")\n",
    "    n = process_input(\"Enter number of columns: \")\n",
    "    "
   ]
  },
  {
   "cell_type": "code",
   "execution_count": 3,
   "id": "8a2ba093",
   "metadata": {},
   "outputs": [
    {
     "name": "stdout",
     "output_type": "stream",
     "text": [
      "\n",
      "Dimension of generated matrix : (7, 5)\n",
      "Frobenious norm of the generated matrix: 3.7183038991483617\n",
      "\n",
      "Generated Matrix : \n",
      "[[ 0.6440  0.9324  0.7562  0.0719  0.7036 ]\n",
      "[ 0.0030  0.1431  0.1768  0.4659  0.8084 ]\n",
      "[ 0.1515  0.5881  0.9731  0.7251  0.8813 ]\n",
      "[ 0.6432  0.7035  0.9603  0.8199  0.3544 ]\n",
      "[ 0.5996  0.6107  0.8105  0.9791  0.1284 ]\n",
      "[ 0.9534  0.8796  0.6241  0.4249  0.4820 ]\n",
      "[ 0.2079  0.0956  0.3302  0.4592  0.2800 ]]\n"
     ]
    }
   ],
   "source": [
    "# Generate random matrix (m X n)\n",
    "A = Matrix(m,n,precision=4)\n",
    "A.random()\n",
    "norm = A.norm('fro')\n",
    "\n",
    "# outputs\n",
    "print(f\"\\nDimension of generated matrix : {A.shape()}\")\n",
    "print(f\"Frobenious norm of the generated matrix: {norm}\")\n",
    "print(f\"\\nGenerated Matrix : \\n{A}\")"
   ]
  },
  {
   "cell_type": "markdown",
   "id": "99cecebd",
   "metadata": {},
   "source": [
    "### 1. Part(ii): Check if Gram-Schmidt Algorithm can be applied or not."
   ]
  },
  {
   "cell_type": "code",
   "execution_count": 4,
   "id": "a327b372",
   "metadata": {},
   "outputs": [
    {
     "name": "stdout",
     "output_type": "stream",
     "text": [
      "\n",
      "Gram-Schmidt Algorithm can be applied on the given matrix.\n"
     ]
    }
   ],
   "source": [
    "# check applicability of Gram-Schmidth Algorithm\n",
    "def isGramSchmidtApplicable(A,showMsg=True):\n",
    "    (rows,cols) = A.shape()\n",
    "    rank = A.rank()\n",
    "    isApplicable = (rank == cols)\n",
    "    if showMsg and isApplicable:\n",
    "            print(f\"\\nGram-Schmidt Algorithm can be applied on the given matrix.\")\n",
    "    elif showMsg and not isApplicable:\n",
    "            print(f\"Gram-Schmidt Algorithm is not applicable on the given matrix.\")\n",
    "    return isApplicable\n",
    "    \n",
    "# outputs\n",
    "A = Matrix(m,n,precision=4)\n",
    "A.random()\n",
    "isGramSchmidtApplicable(A);"
   ]
  },
  {
   "cell_type": "markdown",
   "id": "eeec7a22",
   "metadata": {},
   "source": [
    "### 1 Part(iii): Generate orthogonal matrix Q from a matrix."
   ]
  },
  {
   "cell_type": "code",
   "execution_count": 5,
   "id": "5ed21399",
   "metadata": {},
   "outputs": [
    {
     "name": "stdout",
     "output_type": "stream",
     "text": [
      "\n",
      "Generated Matrix : \n",
      "[[ 0.0595  0.3981  0.7479  0.3649  0.8778 ]\n",
      "[ 0.3582  0.1291  0.1265  0.2082  0.1942 ]\n",
      "[ 0.6481  0.2000  0.1381  0.7898  0.7459 ]\n",
      "[ 0.4435  0.4226  0.1458  0.8047  0.4763 ]\n",
      "[ 0.5606  0.4430  0.8107  0.1760  0.9482 ]\n",
      "[ 0.2341  0.9212  0.3963  0.9936  0.5177 ]\n",
      "[ 0.6759  0.0856  0.2272  0.4687  0.1436 ]]\n",
      "\n",
      "\n",
      "Orthogonal Matrix (Q) from matrix A:\n",
      "[[ 0.0474  0.3789  0.6571  0.6028  -0.0804 ]\n",
      "[ 0.2854  -0.0809  -0.0523  -0.2532  -0.0006 ]\n",
      "[ 0.5165  -0.1814  -0.1898  0.4203  0.5517 ]\n",
      "[ 0.3534  0.1736  -0.3171  0.1693  0.1186 ]\n",
      "[ 0.4468  0.1244  0.5487  -0.5862  0.2662 ]\n",
      "[ 0.1866  0.8190  -0.3564  -0.1209  -0.1974 ]\n",
      "[ 0.5387  -0.3172  0.0283  0.0950  -0.7518 ]]\n"
     ]
    }
   ],
   "source": [
    "# Generate matrix A on which GSA is applicable.\n",
    "A = None\n",
    "while A is None:\n",
    "    M = Matrix(m,n,precision=4)\n",
    "    M.random()\n",
    "    if isGramSchmidtApplicable(M,False):\n",
    "        A = M\n",
    "\n",
    "# Generated Matrix\n",
    "print(f\"\\nGenerated Matrix : \\n{A}\")\n",
    "\n",
    "# Computing orthogonal matrix Q \n",
    "def computeQ(A):\n",
    "    (rows,cols) = A.shape()\n",
    "    Q = Matrix(rows,cols,precision=4)\n",
    "    for i in range(cols):\n",
    "        v = Matrix(array=[A.col(i)],precision=4)\n",
    "        for j in range(i):\n",
    "            q = Matrix(array=[Q.col(j)],precision=4)\n",
    "            factor = q.dot(v)\n",
    "            q.scalar(factor,update=True)\n",
    "            v.eOps(q,opr='-',update=True)\n",
    "        norm = v.norm('fro')\n",
    "        v.scalar(norm,opr='/',update=True)\n",
    "        Q.col(i,v.matrix()[0])\n",
    "    return Q\n",
    "\n",
    "# outputs\n",
    "Q = computeQ(A)\n",
    "print(f\"\\n\\nOrthogonal Matrix (Q) from matrix A:\\n{Q}\")"
   ]
  },
  {
   "cell_type": "markdown",
   "id": "597b93cc",
   "metadata": {},
   "source": [
    "### 1 Part(iv): Create a QR decomposition of the matrix A."
   ]
  },
  {
   "cell_type": "code",
   "execution_count": 6,
   "id": "1d2aa15c",
   "metadata": {},
   "outputs": [
    {
     "name": "stdout",
     "output_type": "stream",
     "text": [
      "Frobenious norm of (A-(QR)): 3.0357771108243367e-15\n",
      "\n",
      "\n"
     ]
    }
   ],
   "source": [
    "# compute R\n",
    "def computeR(A,Q):\n",
    "    R = Q.copy()\n",
    "    R.transpose()\n",
    "    R.multiply(A,update=True)\n",
    "    return R\n",
    "\n",
    "# processing\n",
    "m,n = 7,5\n",
    "A = Matrix(m,n,precision=4)\n",
    "A.random()\n",
    "Q = computeQ(A)\n",
    "R = computeR(A,Q)\n",
    "\n",
    "# outputs\n",
    "# QR = Q.R\n",
    "QR = Q.multiply(R,copy=True)\n",
    "# X = A-QR\n",
    "X = A.eOps(QR,opr='-',copy=True)\n",
    "norm = X.norm('fro')\n",
    "print(f\"Frobenious norm of (A-(QR)): {norm}\\n\\n\")"
   ]
  },
  {
   "cell_type": "code",
   "execution_count": 7,
   "id": "61b6fa49",
   "metadata": {
    "scrolled": true
   },
   "outputs": [
    {
     "name": "stdout",
     "output_type": "stream",
     "text": [
      "Total number of Addition Operations: 245\n",
      "Total number of Multiplication Operations: 385\n",
      "Total number of Division Operations: 35\n",
      "\n",
      "Total number of Operations (Add,Mul,Div): 665\n"
     ]
    }
   ],
   "source": [
    "# number of operations\n",
    "m,n = A.shape()\n",
    "\n",
    "# operations in Q\n",
    "Q_additions = (n * (m-1) * m)/2 + (n-1)*m\n",
    "Q_multiplications = n *m**2\n",
    "Q_divisions = m * n\n",
    "Q_total = Q_additions + Q_multiplications + Q_divisions\n",
    "\n",
    "# operations in R\n",
    "R_additions = (m * (m+1) * (n-1))/2\n",
    "R_multiplications = (m * (m+1) * n)/2\n",
    "R_divisions = 0\n",
    "\n",
    "additions_total = int(Q_additions + R_additions)\n",
    "multiplications_total = int(Q_multiplications + R_multiplications)\n",
    "divisions_total = int(Q_divisions + R_divisions)\n",
    "total = additions_total + multiplications_total + divisions_total\n",
    "\n",
    "# outputs\n",
    "print(f\"Total number of Addition Operations: {additions_total}\")\n",
    "print(f\"Total number of Multiplication Operations: {multiplications_total}\")\n",
    "print(f\"Total number of Division Operations: {divisions_total}\\n\")\n",
    "print(f\"Total number of Operations (Add,Mul,Div): {total}\")"
   ]
  },
  {
   "cell_type": "code",
   "execution_count": null,
   "id": "3c660a50",
   "metadata": {},
   "outputs": [],
   "source": []
  }
 ],
 "metadata": {
  "kernelspec": {
   "display_name": "Python 3 (ipykernel)",
   "language": "python",
   "name": "python3"
  },
  "language_info": {
   "codemirror_mode": {
    "name": "ipython",
    "version": 3
   },
   "file_extension": ".py",
   "mimetype": "text/x-python",
   "name": "python",
   "nbconvert_exporter": "python",
   "pygments_lexer": "ipython3",
   "version": "3.9.5"
  }
 },
 "nbformat": 4,
 "nbformat_minor": 5
}
